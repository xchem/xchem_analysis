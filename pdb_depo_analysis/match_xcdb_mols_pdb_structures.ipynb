{
 "cells": [
  {
   "cell_type": "markdown",
   "metadata": {},
   "source": [
    "# Matching pdb depositions to ligands in XCDB"
   ]
  },
  {
   "cell_type": "markdown",
   "metadata": {},
   "source": [
    "## 1. Search XCDB for ligands\n",
    "\n",
    "To search XCDB for ligands that have been done in previous screens, the following search was done from the django console:\n",
    "\n",
    "```python\n",
    "from xchem_db.models import Compounds\n",
    "\n",
    "all_compounds = set([c.smiles for c in Compounds.objects.all()])\n",
    "with open('smiles_list.csv', 'w') as f:\n",
    "    for comp in all_compounds:\n",
    "        f.write(f'{comp},')\n",
    "```\n",
    "\n",
    "## 2. Search the PDB for entries that use I04-1 beamline at XChem\n",
    "\n",
    "From https://www.ebi.ac.uk/pdbe > advanced search\n",
    "\n",
    "Synchrotron site: diamond\n",
    "Diffraction source: DIAMOND BEAMLINE I04-1\n",
    "\n",
    "And download results with compound info as csv (here ``xcsearch.csv``)\n",
    "\n",
    "## 3. Prepare XChem molecules for comparison\n",
    "\n",
    "To compare the XChem molecules from XCDB against the compounds found in pdb depositions, we compared their morgan fingerprints, using an implementation from rdkit. The preparation of the XChem molecules is shown below:"
   ]
  },
  {
   "cell_type": "code",
   "execution_count": null,
   "metadata": {},
   "outputs": [],
   "source": [
    "import pandas as pd\n",
    "from rdkit import DataStructs\n",
    "from rdkit import Chem\n",
    "from rdkit.Chem import AllChem\n",
    "import pypdb\n",
    "\n",
    "xc_search = pd.read_csv('xcsearch.csv')\n",
    "xcdb_f = open('smiles_list.txt', 'r').read()\n",
    "xcdb_smiles = xcdb_f.split(',')\n",
    "xcdb_mols = [Chem.MolFromSmiles(m) for m in xcdb_smiles]\n",
    "xcdb_fps = []\n",
    "c = 0\n",
    "for mol in xcdb_mols:\n",
    "    try:\n",
    "        fp = AllChem.GetMorganFingerprint(mol,2)\n",
    "        xcdb_fps.append(fp)\n",
    "    except:\n",
    "        c += 1"
   ]
  },
  {
   "cell_type": "markdown",
   "metadata": {},
   "source": [
    "## 4. Ensure we're not including non-ligands\n",
    "\n",
    "Even in XCDB, there isn't a distinction between ligands and molecules from solvents and buffers. To ensure we filter out things that aren't ligands, we use a list of known residue labels from the PDB. These are contained in ``non_ligs.json``.\n",
    "\n",
    "## 5. Do comparison \n",
    "\n",
    "For each compound in the PDB search:\n",
    "\n",
    "1. retreive the compound id from the ``xc_search`` dataframe\n",
    "2. if the compound id is in ``non_ligs`` ignore it\n",
    "3. if the compound id is a ligand, find its smiles string using pypdb\n",
    "4. generate a morgan fingerprint for the compound\n",
    "5. compare the compound to the list of XChem molecules using Dice similarity\n",
    "6. If similarity=1, append the pdb_id to the list of matches"
   ]
  },
  {
   "cell_type": "code",
   "execution_count": null,
   "metadata": {},
   "outputs": [],
   "source": [
    "non_ligs = eval(open('non_ligs.json', 'r').read())\n",
    "\n",
    "pdb_matches = []\n",
    "\n",
    "for _,row in xc_search.iterrows():\n",
    "    if row['compound_id']:\n",
    "        try:\n",
    "            cmpd_ids = row['compound_id'].split(',')\n",
    "        except:\n",
    "            continue\n",
    "    for cid in cmpd_ids:\n",
    "        if cid in non_ligs: \n",
    "            continue\n",
    "        try:\n",
    "            chem_desc = pypdb.describe_chemical(f\"{cid}\")\n",
    "            new_smiles = chem_desc[\"describeHet\"][\"ligandInfo\"][\"ligand\"][\"smiles\"]\n",
    "            can_mol = Chem.MolFromSmiles(new_smiles)\n",
    "            can_no_h = Chem.rdmolops.RemoveHs(can_mol, sanitize=True)\n",
    "            can_smi = Chem.MolToSmiles(can_no_h, isomericSmiles=False)\n",
    "            can_can_mol = Chem.MolFromSmiles(can_smi)\n",
    "            can_fp = AllChem.GetMorganFingerprint(can_can_mol,2)\n",
    "            for comparison in xcdb_fps:\n",
    "                sim = DataStructs.DiceSimilarity(can_fp,comparison)\n",
    "                if sim==1.0:\n",
    "                    pdb_matches.append(row['pdb_id'])\n",
    "                    continue\n",
    "        except:\n",
    "            continue"
   ]
  },
  {
   "cell_type": "markdown",
   "metadata": {},
   "source": [
    "## 6. Process results\n",
    "\n",
    "1. Find unique matches\n",
    "2. Print out the number of unique matches\n",
    "3. Write the pdb ids of the matches to ``pdb_xchem_matches.txt``"
   ]
  },
  {
   "cell_type": "code",
   "execution_count": null,
   "metadata": {},
   "outputs": [],
   "source": [
    "unique_matches = set(pdb_matches)\n",
    "print(len(unique_matches))\n",
    "with open('pdb_xchem_matches.txt', 'w') as f:\n",
    "    for pdbid in unique_matches:\n",
    "             f.write(f'{pdbid},')"
   ]
  }
 ],
 "metadata": {
  "kernelspec": {
   "display_name": "Python 3",
   "language": "python",
   "name": "python3"
  },
  "language_info": {
   "codemirror_mode": {
    "name": "ipython",
    "version": 3
   },
   "file_extension": ".py",
   "mimetype": "text/x-python",
   "name": "python",
   "nbconvert_exporter": "python",
   "pygments_lexer": "ipython3",
   "version": "3.7.7"
  }
 },
 "nbformat": 4,
 "nbformat_minor": 4
}
